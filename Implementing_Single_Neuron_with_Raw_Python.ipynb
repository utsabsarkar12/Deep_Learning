{
  "nbformat": 4,
  "nbformat_minor": 0,
  "metadata": {
    "colab": {
      "provenance": [],
      "authorship_tag": "ABX9TyOWY6o5Ojvu2Qhex1VM/92g",
      "include_colab_link": true
    },
    "kernelspec": {
      "name": "python3",
      "display_name": "Python 3"
    },
    "language_info": {
      "name": "python"
    }
  },
  "cells": [
    {
      "cell_type": "markdown",
      "metadata": {
        "id": "view-in-github",
        "colab_type": "text"
      },
      "source": [
        "<a href=\"https://colab.research.google.com/github/utsabsarkar12/Deep_Learning/blob/main/Implementing_Single_Neuron_with_Raw_Python.ipynb\" target=\"_parent\"><img src=\"https://colab.research.google.com/assets/colab-badge.svg\" alt=\"Open In Colab\"/></a>"
      ]
    },
    {
      "cell_type": "code",
      "execution_count": 1,
      "metadata": {
        "id": "fNMVkd_FIJdI"
      },
      "outputs": [],
      "source": [
        "import math"
      ]
    },
    {
      "cell_type": "code",
      "source": [
        "def sigmoid(z):\n",
        "  return 1 / (1 + math.exp(-z))"
      ],
      "metadata": {
        "id": "KsxFWvNlIVbv"
      },
      "execution_count": 2,
      "outputs": []
    },
    {
      "cell_type": "code",
      "source": [
        "def feedforward(weights, bias, inputs):\n",
        "  total = sum(w * x for w, x in zip(weights, inputs)) + bias\n",
        "  return sigmoid(total)"
      ],
      "metadata": {
        "id": "sjH-VsuDImQi"
      },
      "execution_count": 3,
      "outputs": []
    },
    {
      "cell_type": "code",
      "source": [
        "def classify(output, threshold= 0.50):\n",
        "  return 1 if output >= threshold else 0"
      ],
      "metadata": {
        "id": "u3ZL9iWLJQIu"
      },
      "execution_count": 5,
      "outputs": []
    },
    {
      "cell_type": "code",
      "source": [
        "weights = [0, 1]\n",
        "bias = 0.5\n",
        "\n",
        "inputs = [2,3]\n",
        "\n",
        "output = feedforward(weights, bias, inputs)\n",
        "print(output)\n",
        "\n",
        "classification = classify(output)\n",
        "print(classification)"
      ],
      "metadata": {
        "colab": {
          "base_uri": "https://localhost:8080/"
        },
        "id": "qMaFj175LrZi",
        "outputId": "2f67f1c1-d873-4df6-b308-3603b296ea98"
      },
      "execution_count": 6,
      "outputs": [
        {
          "output_type": "stream",
          "name": "stdout",
          "text": [
            "0.9706877692486436\n",
            "1\n"
          ]
        }
      ]
    },
    {
      "cell_type": "code",
      "source": [],
      "metadata": {
        "id": "f3OGxRJ5Md5x"
      },
      "execution_count": null,
      "outputs": []
    }
  ]
}